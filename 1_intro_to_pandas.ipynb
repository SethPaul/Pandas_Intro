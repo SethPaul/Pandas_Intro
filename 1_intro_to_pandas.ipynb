{
 "cells": [
  {
   "cell_type": "markdown",
   "metadata": {},
   "source": [
    "# Intro to Pandas"
   ]
  },
  {
   "cell_type": "markdown",
   "metadata": {},
   "source": [
    "## Schedule\n",
    " - Overview of Pandas (30 minutes) \n",
    "     - uses\n",
    "     - strengths\n",
    "     - shortcomings\n",
    "     - quick overview key commands/ideas\n",
    "   ____________\n",
    "     \n",
    "     \n",
    " \n",
    " - Split on interest and experience: (45 minutes)\n",
    "     - Beginners: \n",
    "         - I'll walk through some examples and answer any questions that may come up.\n",
    "         - I hope to cover IO, selection/filtering, apply, groupby, filling/dropping rows/columns, some indexing, and more advanced selection techniques as time allows.\n",
    "     - Intermediate:\n",
    "         - Work together on intermediate challenges using the available resource material to guide \n",
    "     - Advanced:\n",
    "         - Perform data wizardry on the several available datasets \n",
    "   __________\n",
    " - Come back together and share cool findings or crazy operations that did amazing or possibly unexpected things (15 minutes) "
   ]
  },
  {
   "cell_type": "markdown",
   "metadata": {},
   "source": [
    "## Available resources:\n",
    "- [Pandas Cheatsheet](http://www.webpages.uidaho.edu/~stevel/504/Pandas%20DataFrame%20Notes.pdf) by Mark Graph\n",
    "    - (I have found a few deprecated commands in this and one or two that have changed format as well)\n",
    "    \n",
    "    \n",
    "- [Pandas Cookbook](https://github.com/jvns/pandas-cookbook) by Julia Evans\n",
    "    - (Most description, \"easiest\" to follow, covers the least content)\n",
    "       \n",
    "    \n",
    "- [SciPy 2015 and 2016 Pandas tutorial](https://github.com/jonathanrocher/pandas_tutorial) by Johnathan Rocher \n",
    "    - (Bit more hit the ground running, moves faster, covers a bit more scienctific focus)\n",
    "        \n",
    "    \n",
    "- [PyCon 2012 \"Data analysis in Python with pandas presentation\"](https://www.youtube.com/watch?v=w26x-z-BdWQ) by Wes McMinney - [Notebook outcome available](https://github.com/SethPaul/Pandas_Tutorial_from_PyCon2012_by_Wes_McKinney)\n",
    "    - (Covers a lot of content intermediate or advanced users could jump in the later notebooks for some more complex operations, as of writing this I haven't gotten to commenting/describing at all)  \n",
    "    "
   ]
  },
  {
   "cell_type": "markdown",
   "metadata": {},
   "source": [
    "## Experience levels:\n",
    "### Beginner:\n",
    "  * read in data (csv)\n",
    "  * create DF from dict\n",
    "  * slice/subset\n",
    "  * get aggregate eg. means, mins, etc\n",
    "  * create new columsn with simple operations ie. df['C'] = df['A'] + df['B']\n",
    "  * write data (csv)\n",
    "\n",
    "### Intermediate:\n",
    "  * groupby \n",
    "  * joins\n",
    "  * fill/interpolate/drop\n",
    "  * column wide custom modifications eg. string parsing, df.apply()\n",
    "  * custom filtering/selection methods eg. df[df['A']>0], select specific row(s)/column(s) values using .ix, .iloc, .loc\n",
    "  * some indexing manipulation\n",
    "\n",
    "### Advanced:\n",
    "  * Data wizardry, doing operations that may seem like magic\n",
    "    (some of these things can be done with less advanced tools would be slower/less efficient and require several intermediate steps, see df.unstack(), df.resample(), and df.query())\n",
    "    * master of the indexing universe eg. df['weekday']=df.index.weekday, df.shift(), hierarcical indexing (melt and cast from R)\n",
    "    * rolling windows\n",
    "    * caterigorical-type specific operations"
   ]
  },
  {
   "cell_type": "markdown",
   "metadata": {},
   "source": [
    "## Challenges:\n",
    "\n",
    "### Beginner\n",
    "  * read in ./datasets/stocks.csv\n",
    "  * create DF from dict with columns stock name and symbol for mapping to stocks.csv\n",
    "  * slice a single month, slice and plot American Airlines stock \n",
    "  * get aggregate of columns, eg. max of Apple stock in the set (Can you get the date of that price?)\n",
    "  * create new columns with simple operations eg. df['AAPLnorm'] = df['AAPL'] - mean Apple price\n",
    "  * write out the resulting dataframe (csv) - make sure to not include the index\n",
    "\n",
    "\n",
    "### Intermediate\n",
    "   - using the babyname sets: \n",
    "       - plot the popularity trend over time of a given name\n",
    "       - plot the number of babies named 'George' over time (join births.csv and baby-names2.csv)\n",
    "       - determine what are the most common names that are both boys and girls names \n",
    "       - are there any surprising names that are given to both boys and girls?\n",
    "   \n",
    " OR\n",
    "   \n",
    "   - using the boadband speed test set:\n",
    "       - which county has the most overall tests?\n",
    "       - identify the county with the fastest home internet download\n",
    "       - what is the largest spread of test using lower quartile download and upper quartile download?\n",
    "       - how do the business and home upload speeds covary? \n",
    "       - you could also combine the states from national_county.txt to do state level analysis\n",
    "\n",
    "### Advanced\n",
    "   * Whatever interesting manipulations you want from the available datasets.\n",
    "   * The movie_lens set may allow for the most possibility, you could try:\n",
    "       - cut up genre column in the .datasets/movie_lens/movies.dat and take a look at the distribution of genres in the set or covariance between the genres\n",
    "       - convert the ratings.dat to a user-movie matrix, this would be used in collaborative filtering for a recommender engine\n",
    "       - identify the highest average rating across genres or all movies\n",
    "       - identify the movie with the most ratings"
   ]
  },
  {
   "cell_type": "markdown",
   "metadata": {},
   "source": [
    "## Datasets:\n",
    "- stock_data.csv - stocks for AA,AAPL,GE,IBM,JNJ,MSFT,PEP,SPX,XOM for 2007-10-29 to 2011-10-14\n",
    "- baby-names2.csv and births.csv - set for analysis of name popularity from 1880 to 2008\n",
    "- broadband_speedtest.csv and national_county.txt - goverment supplied data set for broadband service across the country and state, fips, county table\n",
    "- movie_lens sets - movies with genres, ratings, and tags\n"
   ]
  },
  {
   "cell_type": "code",
   "execution_count": null,
   "metadata": {
    "collapsed": true
   },
   "outputs": [],
   "source": []
  }
 ],
 "metadata": {
  "kernelspec": {
   "display_name": "Python [Root]",
   "language": "python",
   "name": "Python [Root]"
  },
  "language_info": {
   "codemirror_mode": {
    "name": "ipython",
    "version": 2
   },
   "file_extension": ".py",
   "mimetype": "text/x-python",
   "name": "python",
   "nbconvert_exporter": "python",
   "pygments_lexer": "ipython2",
   "version": "2.7.12"
  }
 },
 "nbformat": 4,
 "nbformat_minor": 0
}
