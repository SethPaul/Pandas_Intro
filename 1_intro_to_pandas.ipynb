{
 "cells": [
  {
   "cell_type": "markdown",
   "metadata": {},
   "source": [
    "# Intro to Pandas"
   ]
  },
  {
   "cell_type": "markdown",
   "metadata": {},
   "source": [
    "## Schedule\n",
    " - Overview of Pandas (30 minutes) \n",
    "     - uses\n",
    "     - strengths\n",
    "     - shortcomings\n",
    "     - quick overview key commands/ideas\n",
    "     \n",
    "     \n",
    " \n",
    " - Split on interest and experience: (45 minutes)\n",
    "     - Beginners: \n",
    "         - I'll walk through some examples and answer any questions that may come up.\n",
    "         - I hope to cover IO, selection/filtering, apply, groupby, filling/dropping rows/columns, some indexing, and more advanced selection techniques as time allows.\n",
    "     - Intermediate:\n",
    "         - Work together on intermediate challenges using the available resource material to guide \n",
    "     - Advanced:\n",
    "         - Perform data wizardry on the several available datasets \n",
    "         \n",
    " - Come back together and share cool findings or crazy operations that did amazing or possibly unexpected things (15 minutes) "
   ]
  },
  {
   "cell_type": "markdown",
   "metadata": {},
   "source": [
    "## Available resources:\n",
    "- [Pandas Cheatsheet](http://www.webpages.uidaho.edu/~stevel/504/Pandas%20DataFrame%20Notes.pdf) by Mark Graph\n",
    "- (I have found a few deprecated commands in this and one or two that have changed format as well)\n",
    "- [Pandas Cookbook](https://github.com/jvns/pandas-cookbook) by Julia Evans\n",
    "    - (Most description, \"easiest\" to follow, covers the least content)\n",
    "- [SciPy 2015 and 2016 Pandas tutorial](https://github.com/jonathanrocher/pandas_tutorial) by Johnathan Rocher \n",
    "    - (Bit more hit the ground running, moves faster, covers a bit more scienctific focus)\n",
    "- [PyCon 2012 \"Data analysis in Python with pandas presentation\"](https://www.youtube.com/watch?v=w26x-z-BdWQ) by Wes McMinney - [Notebook outcome available](https://github.com/SethPaul/Pandas_Tutorial_from_PyCon2012_by_Wes_McKinney)\n",
    "    - (Covers a lot of content intermediate or advanced users could jump in the later notebooks for some more complex operations, as of writing this I haven't gotten to commenting/describing at all)  \n",
    "    "
   ]
  },
  {
   "cell_type": "markdown",
   "metadata": {},
   "source": [
    "## Experience levels:\n",
    "### Beginner:\n",
    "  * read in data (csv)\n",
    "  * create DF from dict\n",
    "  * slice/subset\n",
    "  * get aggregate of columns eg. means, mins, etc\n",
    "  * create new columns with simple operations ie. df['C'] = df['A'] + df'['B']\n",
    "  * write data (csv)\n",
    "\n",
    "### Intermediate:\n",
    "  * groupby\n",
    "  * joins\n",
    "  * fill/interpolate/drop\n",
    "  * column wide custom modifications eg. string parsing, df.apply()\n",
    "  * custom filtering/selection methods eg. df[df['A']>0], select specific row(s)/column(s) values using .ix, .iloc, .loc\n",
    "  * some indexing manipulation\n",
    "\n",
    "### Advanced:\n",
    "  * Data wizarding, doing operations that may seem like magic\n",
    "    (some of these things can be done with less advanced tools would be slower/less efficient and require several intermediate steps, see df.unstack(), df.resample(), and df.query())\n",
    "    * master of the indexing universe eg. df['weekday']=df.index.weekday, df.shift(), hierarcical indexing (melt and cast from R)\n",
    "    * rolling windows\n",
    "    * caterigorical-type specific operations"
   ]
  },
  {
   "cell_type": "markdown",
   "metadata": {},
   "source": [
    "## Challenges:\n",
    "\n",
    "### Beginner\n",
    "  * read in csv\n",
    "  * get column mean\n",
    "  * get closing price on specific date\n",
    "  * set specific price\n",
    "  * add column\n",
    "  * drop columns\n",
    "  * sort by specified columns\n",
    "\n",
    "### Intermediate\n",
    "  * read in sql query\n",
    "  * concatenate\n",
    "  * merge df's: inner, outer left, right\n",
    "  * groupbys\n",
    "  * select rows that contain elements from list\n",
    "  * set_index for quicker selection of subgroup\n",
    "  * fillnas by mean, by nearby value\n",
    "  * dropnas any, all\n",
    "  * histogram of categories\n",
    "  * filter by multiple column conditions\n",
    "\n",
    "### Advanced\n",
    "  * Single line means by month\n",
    "  * .idxmin(), idxmax()\n",
    "  * unstack, stack\n",
    "  * moving average\n",
    "  * average sales by weekday\n",
    "  * query by expression"
   ]
  },
  {
   "cell_type": "markdown",
   "metadata": {},
   "source": [
    "## Datasets:\n",
    "\n"
   ]
  }
 ],
 "metadata": {
  "kernelspec": {
   "display_name": "Python [Root]",
   "language": "python",
   "name": "Python [Root]"
  },
  "language_info": {
   "codemirror_mode": {
    "name": "ipython",
    "version": 2
   },
   "file_extension": ".py",
   "mimetype": "text/x-python",
   "name": "python",
   "nbconvert_exporter": "python",
   "pygments_lexer": "ipython2",
   "version": "2.7.12"
  }
 },
 "nbformat": 4,
 "nbformat_minor": 0
}
